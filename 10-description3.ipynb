{
 "cells": [
  {
   "cell_type": "code",
   "execution_count": 1,
   "metadata": {},
   "outputs": [
    {
     "ename": "NameError",
     "evalue": "name '数值变量描述统计' is not defined",
     "output_type": "error",
     "traceback": [
      "\u001b[1;31m---------------------------------------------------------------------------\u001b[0m",
      "\u001b[1;31mNameError\u001b[0m                                 Traceback (most recent call last)",
      "\u001b[1;32mc:\\Users\\Lenovo\\Desktop\\home\\10-description3.ipynb 单元格 1\u001b[0m line \u001b[0;36m1\n\u001b[1;32m----> <a href='vscode-notebook-cell:/c%3A/Users/Lenovo/Desktop/home/10-description3.ipynb#W0sZmlsZQ%3D%3D?line=0'>1</a>\u001b[0m 数值变量描述统计\n\u001b[0;32m      <a href='vscode-notebook-cell:/c%3A/Users/Lenovo/Desktop/home/10-description3.ipynb#W0sZmlsZQ%3D%3D?line=2'>3</a>\u001b[0m 统计指标\n\u001b[0;32m      <a href='vscode-notebook-cell:/c%3A/Users/Lenovo/Desktop/home/10-description3.ipynb#W0sZmlsZQ%3D%3D?line=4'>5</a>\u001b[0m \u001b[39m1\u001b[39m, 中值\n",
      "\u001b[1;31mNameError\u001b[0m: name '数值变量描述统计' is not defined"
     ]
    }
   ],
   "source": [
    "数值变量描述统计\n",
    "\n",
    "统计指标\n",
    "\n",
    "1, 中值\n",
    "2, 平均值\n",
    "3, 方差\n",
    "\n",
    "可视化\n",
    "\n",
    "1,散点图"
   ]
  },
  {
   "cell_type": "code",
   "execution_count": null,
   "metadata": {},
   "outputs": [],
   "source": [
    "impoer mytools\n",
    "from pyreadstat import pyreadstat\n",
    "国家认同原始数据,meta= mytools.读取spss数据(R'identity.sav')\n",
    "df, metadata = pyreadstat.read_sav(r'identity.sav')\n",
    "apply_value_formats=False,\n",
    "formats_as_ordered_category=Ture"
   ]
  },
  {
   "cell_type": "code",
   "execution_count": null,
   "metadata": {},
   "outputs": [],
   "source": [
    "国家认同原始数据,mytools.读取spss数据(R'identity.sav')"
   ]
  },
  {
   "cell_type": "code",
   "execution_count": null,
   "metadata": {},
   "outputs": [],
   "source": [
    "国家认同原始数据.您觉得中国怎么样"
   ]
  },
  {
   "cell_type": "code",
   "execution_count": null,
   "metadata": {},
   "outputs": [],
   "source": [
    "df['自豪感'] =df.您觉得中国怎么样 + df.您认为中国有多少值得自豪的地方"
   ]
  },
  {
   "cell_type": "code",
   "execution_count": null,
   "metadata": {},
   "outputs": [],
   "source": [
    "df['自豪感'].median()"
   ]
  },
  {
   "cell_type": "code",
   "execution_count": null,
   "metadata": {},
   "outputs": [],
   "source": [
    "df['自豪感'].mean()"
   ]
  }
 ],
 "metadata": {
  "kernelspec": {
   "display_name": "Python 3",
   "language": "python",
   "name": "python3"
  },
  "language_info": {
   "codemirror_mode": {
    "name": "ipython",
    "version": 3
   },
   "file_extension": ".py",
   "mimetype": "text/x-python",
   "name": "python",
   "nbconvert_exporter": "python",
   "pygments_lexer": "ipython3",
   "version": "3.8.10"
  }
 },
 "nbformat": 4,
 "nbformat_minor": 2
}
