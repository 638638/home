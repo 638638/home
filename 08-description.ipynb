{
 "cells": [
  {
   "cell_type": "code",
   "execution_count": 5,
   "metadata": {},
   "outputs": [],
   "source": [
    "import pandas as pd\n",
    "from pyreadstat import pyreadstat\n",
    "df, metadata = pyreadstat.read_sav(r'identity.sav',\n",
    "apply_value_formats=True, formats_as_ordered_category=True) "
   ]
  },
  {
   "cell_type": "code",
   "execution_count": 6,
   "metadata": {},
   "outputs": [
    {
     "ename": "TypeError",
     "evalue": "sum() takes at least 1 positional argument (0 given)",
     "output_type": "error",
     "traceback": [
      "\u001b[1;31m---------------------------------------------------------------------------\u001b[0m",
      "\u001b[1;31mTypeError\u001b[0m                                 Traceback (most recent call last)",
      "\u001b[1;32mc:\\Users\\Lenovo\\Desktop\\home\\08-description.ipynb 单元格 2\u001b[0m line \u001b[0;36m3\n\u001b[0;32m      <a href='vscode-notebook-cell:/c%3A/Users/Lenovo/Desktop/home/08-description.ipynb#W1sZmlsZQ%3D%3D?line=0'>1</a>\u001b[0m result \u001b[39m=\u001b[39m df[\u001b[39m'\u001b[39m\u001b[39m会打多少分\u001b[39m\u001b[39m'\u001b[39m]\u001b[39m.\u001b[39mvalue_counts(sort\u001b[39m=\u001b[39m\u001b[39mFalse\u001b[39;00m)\n\u001b[0;32m      <a href='vscode-notebook-cell:/c%3A/Users/Lenovo/Desktop/home/08-description.ipynb#W1sZmlsZQ%3D%3D?line=1'>2</a>\u001b[0m df_result\u001b[39m=\u001b[39mpd\u001b[39m.\u001b[39mDataFrame(result)\n\u001b[1;32m----> <a href='vscode-notebook-cell:/c%3A/Users/Lenovo/Desktop/home/08-description.ipynb#W1sZmlsZQ%3D%3D?line=2'>3</a>\u001b[0m \u001b[39msum\u001b[39m \u001b[39m=\u001b[39m df_result[\u001b[39m'\u001b[39m\u001b[39mcount\u001b[39m\u001b[39m'\u001b[39m],\u001b[39msum\u001b[39;49m()\n\u001b[0;32m      <a href='vscode-notebook-cell:/c%3A/Users/Lenovo/Desktop/home/08-description.ipynb#W1sZmlsZQ%3D%3D?line=3'>4</a>\u001b[0m df_result[\u001b[39m'\u001b[39m\u001b[39m比例\u001b[39m\u001b[39m'\u001b[39m]\u001b[39m=\u001b[39mdf_result[\u001b[39m'\u001b[39m\u001b[39mcount\u001b[39m\u001b[39m'\u001b[39m] \u001b[39m/\u001b[39m \u001b[39msum\u001b[39m\n",
      "\u001b[1;31mTypeError\u001b[0m: sum() takes at least 1 positional argument (0 given)"
     ]
    }
   ],
   "source": [
    "result = df['会打多少分'].value_counts(sort=False)\n",
    "df_result=pd.DataFrame(result)\n",
    "sum = df_result['count'],sum()\n",
    "df_result['比例']=df_result['count'] / sum"
   ]
  },
  {
   "cell_type": "code",
   "execution_count": 7,
   "metadata": {},
   "outputs": [],
   "source": [
    "result = df['会打多少分'].value_counts(sort=False)\n",
    "df_result=pd.DataFrame(result)\n",
    "df_result['累计求和']= result.values.cumsum()"
   ]
  },
  {
   "cell_type": "code",
   "execution_count": 8,
   "metadata": {},
   "outputs": [],
   "source": [
    "result=df['会打多少分'].value_counts(sort=False)\n",
    "描述统计表 =pd.DataFrame(result)\n",
    "描述统计表 ['比例']= 描述统计表['count'] / 描述统计表['count'].sum()\n",
    "描述统计表 ['累计比例'] = 描述统计表 ['比例'].cumsum()\n"
   ]
  },
  {
   "cell_type": "code",
   "execution_count": 9,
   "metadata": {},
   "outputs": [
    {
     "ename": "IndentationError",
     "evalue": "expected an indented block (3879335228.py, line 2)",
     "output_type": "error",
     "traceback": [
      "\u001b[1;36m  Cell \u001b[1;32mIn[9], line 2\u001b[1;36m\u001b[0m\n\u001b[1;33m    result = 表名[变量名].value_counts(sort=false)\u001b[0m\n\u001b[1;37m    ^\u001b[0m\n\u001b[1;31mIndentationError\u001b[0m\u001b[1;31m:\u001b[0m expected an indented block\n"
     ]
    }
   ],
   "source": [
    "def 有序变量描述统计函数 (表名,变量名):\n",
    "result\n",
    "描述统计表=pd.DataFrame(result)\n",
    "描述统计表['比例']= 描述统计表['count'] / 描述统计表['count'].sum()\n",
    "描述统计表['累计比例']=描述统计表['比例'].cumsum()\n",
    "return 描述统计表"
   ]
  }
 ],
 "metadata": {
  "kernelspec": {
   "display_name": "Python 3",
   "language": "python",
   "name": "python3"
  },
  "language_info": {
   "codemirror_mode": {
    "name": "ipython",
    "version": 3
   },
   "file_extension": ".py",
   "mimetype": "text/x-python",
   "name": "python",
   "nbconvert_exporter": "python",
   "pygments_lexer": "ipython3",
   "version": "3.8.10"
  }
 },
 "nbformat": 4,
 "nbformat_minor": 2
}
